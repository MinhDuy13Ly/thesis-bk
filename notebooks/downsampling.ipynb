{
 "nbformat": 4,
 "nbformat_minor": 0,
 "metadata": {
  "colab": {
   "name": "downsampling.ipynb",
   "provenance": [],
   "authorship_tag": "ABX9TyNU/mJne+R1fmgH86qXMb5I"
  },
  "kernelspec": {
   "name": "python3",
   "display_name": "Python 3"
  }
 },
 "cells": [
  {
   "cell_type": "code",
   "metadata": {
    "id": "5cbAfiqsh9jE",
    "executionInfo": {
     "status": "ok",
     "timestamp": 1616064761901,
     "user_tz": -420,
     "elapsed": 886,
     "user": {
      "displayName": "DUY Trương Minh",
      "photoUrl": "",
      "userId": "06339021550163644426"
     }
    }
   },
   "source": [
    "import numpy as np\n",
    "from PIL import Image\n",
    "import torch\n",
    "import torch.nn.functional as F\n",
    "from torchvision import transforms\n",
    "import matplotlib.pyplot as plt"
   ],
   "execution_count": 6,
   "outputs": []
  },
  {
   "cell_type": "code",
   "metadata": {
    "id": "7DbA7jPJju9r"
   },
   "source": [],
   "execution_count": null,
   "outputs": []
  },
  {
   "cell_type": "code",
   "metadata": {
    "id": "buhA8qKmYjz8",
    "colab": {
     "base_uri": "https://localhost:8080/"
    },
    "executionInfo": {
     "status": "ok",
     "timestamp": 1616064653714,
     "user_tz": -420,
     "elapsed": 12453,
     "user": {
      "displayName": "DUY Trương Minh",
      "photoUrl": "",
      "userId": "06339021550163644426"
     }
    },
    "outputId": "522513b8-8a03-462b-f209-e79e9acfaf8a"
   },
   "source": [
    "from google.colab import drive\n",
    "drive.mount('/content/drive')"
   ],
   "execution_count": 2,
   "outputs": [
    {
     "output_type": "stream",
     "text": [
      "Mounted at /content/drive\n"
     ],
     "name": "stdout"
    }
   ]
  },
  {
   "cell_type": "code",
   "metadata": {
    "colab": {
     "base_uri": "https://localhost:8080/"
    },
    "id": "xGIK_ljGiFat",
    "executionInfo": {
     "status": "ok",
     "timestamp": 1616064765798,
     "user_tz": -420,
     "elapsed": 1362,
     "user": {
      "displayName": "DUY Trương Minh",
      "photoUrl": "",
      "userId": "06339021550163644426"
     }
    },
    "outputId": "29de3e68-b063-4bbd-c645-5419b7e9c127"
   },
   "source": [
    "pil_to_torch = transforms.ToTensor()\n",
    "from PIL import Image\n",
    "\n",
    "im1 = Image.open(\"/content/drive/MyDrive/THESIS RESOURCES/ESRGAN code/images/outputs/bi-lr_test.jpg\")\n",
    "im2 = Image.open(\"/content/drive/MyDrive/THESIS RESOURCES/ESRGAN code/images/outputs/sr-lr_test.jpg\")\n",
    "width1, height1 = im1.size\n",
    "print(width1)\n",
    "print(height1)\n",
    "\n",
    "width2, height2 = im2.size\n",
    "print(width2)\n",
    "print(height2)\n",
    "\n",
    "# p = transforms.Compose([transforms.Resize((width // 4, height // 4), Image.BICUBIC)])\n",
    "# new_im = p(im)\n",
    "\n",
    "# new_im.save('lr.jpg')"
   ],
   "execution_count": 7,
   "outputs": [
    {
     "output_type": "stream",
     "text": [
      "720\n",
      "960\n",
      "720\n",
      "960\n"
     ],
     "name": "stdout"
    }
   ]
  }
 ]
}
