{
 "nbformat": 4,
 "nbformat_minor": 0,
 "metadata": {
  "colab": {
   "name": "freq.ipynb",
   "provenance": [],
   "collapsed_sections": [],
   "authorship_tag": "ABX9TyP3Zv/ALQX584I52wwSPhdq"
  },
  "kernelspec": {
   "name": "python3",
   "display_name": "Python 3"
  },
  "language_info": {
   "name": "python"
  },
  "accelerator": "GPU"
 },
 "cells": [
  {
   "cell_type": "code",
   "metadata": {
    "id": "m-dCEGbltZCJ",
    "colab": {
     "base_uri": "https://localhost:8080/"
    },
    "executionInfo": {
     "status": "ok",
     "timestamp": 1627730019536,
     "user_tz": -420,
     "elapsed": 1305868,
     "user": {
      "displayName": "DUY Trương Minh",
      "photoUrl": "",
      "userId": "06339021550163644426"
     }
    },
    "outputId": "1ecfb040-39b5-4966-d2a3-66bf299add77"
   },
   "source": [
    "from google.colab import drive\n",
    "drive.mount('/content/gdrive',force_remount=True)"
   ],
   "execution_count": 1,
   "outputs": [
    {
     "output_type": "stream",
     "text": [
      "Mounted at /content/gdrive\n"
     ],
     "name": "stdout"
    }
   ]
  },
  {
   "cell_type": "code",
   "metadata": {
    "colab": {
     "base_uri": "https://localhost:8080/",
     "height": 52
    },
    "id": "uU4UJg8sthgM",
    "executionInfo": {
     "status": "ok",
     "timestamp": 1627734441772,
     "user_tz": -420,
     "elapsed": 77,
     "user": {
      "displayName": "DUY Trương Minh",
      "photoUrl": "",
      "userId": "06339021550163644426"
     }
    },
    "outputId": "e4419655-45c1-485b-b279-05e6f8c01c24"
   },
   "source": [
    "%cd \"/content/gdrive/MyDrive/THESIS RESOURCES/ESRGAN code\"\n",
    "%pwd"
   ],
   "execution_count": 4,
   "outputs": [
    {
     "output_type": "stream",
     "text": [
      "/content/gdrive/MyDrive/THESIS RESOURCES/ESRGAN code\n"
     ],
     "name": "stdout"
    },
    {
     "output_type": "execute_result",
     "data": {
      "application/vnd.google.colaboratory.intrinsic+json": {
       "type": "string"
      },
      "text/plain": [
       "'/content/gdrive/MyDrive/THESIS RESOURCES/ESRGAN code'"
      ]
     },
     "metadata": {
      "tags": []
     },
     "execution_count": 4
    }
   ]
  },
  {
   "cell_type": "markdown",
   "metadata": {
    "id": "iOsuT091w8_I"
   },
   "source": [
    "**Generate image first**"
   ]
  },
  {
   "cell_type": "code",
   "metadata": {
    "id": "fn5I7afBwEjt"
   },
   "source": [
    "!python gen_image_benchmark.py --model_name \"RaGAN\" --dataset_name \"Urban100\" --checkpoint_model \"/Crop/Relativistic GAN/generator_LPIPS_RaGAN.pth\""
   ],
   "execution_count": null,
   "outputs": []
  },
  {
   "cell_type": "code",
   "metadata": {
    "colab": {
     "base_uri": "https://localhost:8080/"
    },
    "id": "cv2GTrPB0T0h",
    "executionInfo": {
     "status": "ok",
     "timestamp": 1627740612379,
     "user_tz": -420,
     "elapsed": 2861,
     "user": {
      "displayName": "DUY Trương Minh",
      "photoUrl": "",
      "userId": "06339021550163644426"
     }
    },
    "outputId": "e3590362-9453-47c8-ff93-1a55f9a27aa9"
   },
   "source": [
    "!python freq_visual.py"
   ],
   "execution_count": 16,
   "outputs": [
    {
     "output_type": "stream",
     "text": [
      "Namespace()\n",
      "/content/gdrive/MyDrive/THESIS RESOURCES/ESRGAN code/gen_hr/Visualize/Real/rs-0801.png\n",
      "Finish original\n",
      "/content/gdrive/MyDrive/THESIS RESOURCES/ESRGAN code/gen_hr/Visualize/No FFT/RaGP-0801.png\n",
      "Finish FFT\n",
      "/content/gdrive/MyDrive/THESIS RESOURCES/ESRGAN code/gen_hr/Visualize/FFT/RaGPFFT-0801.png\n",
      "Finish FFT\n",
      "/content/gdrive/MyDrive/THESIS RESOURCES/ESRGAN code/gen_hr/Visualize/Spectral/RaGPspec-0801.png\n",
      "Finish spectral\n",
      "No FFT difference\n",
      "6.730922533299134e-05\n",
      "FFT difference\n",
      "3.173245185918165e-05\n",
      "spectral difference\n",
      "7.20056494924649e-05\n"
     ],
     "name": "stdout"
    }
   ]
  }
 ]
}
