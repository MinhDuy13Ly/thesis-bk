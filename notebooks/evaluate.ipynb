{
 "nbformat": 4,
 "nbformat_minor": 0,
 "metadata": {
  "accelerator": "GPU",
  "colab": {
   "name": "evaluate.ipynb",
   "provenance": [],
   "collapsed_sections": [],
   "machine_shape": "hm",
   "authorship_tag": "ABX9TyOvQ4yCDN7Tif6Fkhj1ZuFx"
  },
  "kernelspec": {
   "display_name": "Python 3",
   "name": "python3"
  },
  "language_info": {
   "name": "python"
  }
 },
 "cells": [
  {
   "cell_type": "code",
   "metadata": {
    "colab": {
     "base_uri": "https://localhost:8080/"
    },
    "id": "g2I6Fe7FhHRW",
    "executionInfo": {
     "status": "ok",
     "timestamp": 1626320844336,
     "user_tz": -420,
     "elapsed": 21561,
     "user": {
      "displayName": "DUY Trương Minh",
      "photoUrl": "",
      "userId": "06339021550163644426"
     }
    },
    "outputId": "e2be3275-700a-4ba7-8e60-552dce5b5c78"
   },
   "source": [
    "\n",
    "from google.colab import drive\n",
    "drive.mount('/content/gdrive',force_remount=True)"
   ],
   "execution_count": 1,
   "outputs": [
    {
     "output_type": "stream",
     "text": [
      "Mounted at /content/gdrive\n"
     ],
     "name": "stdout"
    }
   ]
  },
  {
   "cell_type": "code",
   "metadata": {
    "id": "UGeJMyPtp5E3",
    "colab": {
     "base_uri": "https://localhost:8080/"
    },
    "executionInfo": {
     "status": "ok",
     "timestamp": 1626320861045,
     "user_tz": -420,
     "elapsed": 7111,
     "user": {
      "displayName": "DUY Trương Minh",
      "photoUrl": "",
      "userId": "06339021550163644426"
     }
    },
    "outputId": "153741d1-db65-40a3-eda9-82ca393d048d"
   },
   "source": [
    "!unzip \"/content/gdrive/MyDrive/Data/Validation/DIV2K-va_1X.zip\""
   ],
   "execution_count": 2,
   "outputs": [
    {
     "output_type": "stream",
     "text": [
      "Archive:  /content/gdrive/MyDrive/Data/Validation/DIV2K-va_1X.zip\n",
      "   creating: DIV2K-va_1X/\n",
      " extracting: DIV2K-va_1X/0878.png    \n",
      " extracting: DIV2K-va_1X/0850.png    \n",
      " extracting: DIV2K-va_1X/0844.png    \n",
      " extracting: DIV2K-va_1X/0893.png    \n",
      " extracting: DIV2K-va_1X/0887.png    \n",
      " extracting: DIV2K-va_1X/0886.png    \n",
      " extracting: DIV2K-va_1X/0892.png    \n",
      " extracting: DIV2K-va_1X/0845.png    \n",
      " extracting: DIV2K-va_1X/0851.png    \n",
      " extracting: DIV2K-va_1X/0879.png    \n",
      " extracting: DIV2K-va_1X/0847.png    \n",
      " extracting: DIV2K-va_1X/0853.png    \n",
      " extracting: DIV2K-va_1X/0884.png    \n",
      " extracting: DIV2K-va_1X/0890.png    \n",
      " extracting: DIV2K-va_1X/0891.png    \n",
      " extracting: DIV2K-va_1X/0885.png    \n",
      " extracting: DIV2K-va_1X/0852.png    \n",
      " extracting: DIV2K-va_1X/0846.png    \n",
      " extracting: DIV2K-va_1X/0842.png    \n",
      " extracting: DIV2K-va_1X/0856.png    \n",
      " extracting: DIV2K-va_1X/0881.png    \n",
      " extracting: DIV2K-va_1X/0895.png    \n",
      " extracting: DIV2K-va_1X/0894.png    \n",
      " extracting: DIV2K-va_1X/0880.png    \n",
      " extracting: DIV2K-va_1X/0857.png    \n",
      " extracting: DIV2K-va_1X/0843.png    \n",
      " extracting: DIV2K-va_1X/0855.png    \n",
      " extracting: DIV2K-va_1X/0841.png    \n",
      " extracting: DIV2K-va_1X/0869.png    \n",
      " extracting: DIV2K-va_1X/0896.png    \n",
      " extracting: DIV2K-va_1X/0882.png    \n",
      " extracting: DIV2K-va_1X/0883.png    \n",
      " extracting: DIV2K-va_1X/0897.png    \n",
      " extracting: DIV2K-va_1X/0868.png    \n",
      " extracting: DIV2K-va_1X/0840.png    \n",
      " extracting: DIV2K-va_1X/0854.png    \n",
      " extracting: DIV2K-va_1X/0833.png    \n",
      " extracting: DIV2K-va_1X/0827.png    \n",
      " extracting: DIV2K-va_1X/0826.png    \n",
      " extracting: DIV2K-va_1X/0832.png    \n",
      " extracting: DIV2K-va_1X/0818.png    \n",
      " extracting: DIV2K-va_1X/0824.png    \n",
      " extracting: DIV2K-va_1X/0830.png    \n",
      " extracting: DIV2K-va_1X/0831.png    \n",
      " extracting: DIV2K-va_1X/0825.png    \n",
      " extracting: DIV2K-va_1X/0819.png    \n",
      " extracting: DIV2K-va_1X/0821.png    \n",
      " extracting: DIV2K-va_1X/0835.png    \n",
      " extracting: DIV2K-va_1X/0809.png    \n",
      " extracting: DIV2K-va_1X/0808.png    \n",
      " extracting: DIV2K-va_1X/0834.png    \n",
      " extracting: DIV2K-va_1X/0820.png    \n",
      " extracting: DIV2K-va_1X/0836.png    \n",
      " extracting: DIV2K-va_1X/0822.png    \n",
      " extracting: DIV2K-va_1X/0823.png    \n",
      " extracting: DIV2K-va_1X/0837.png    \n",
      " extracting: DIV2K-va_1X/0812.png    \n",
      " extracting: DIV2K-va_1X/0806.png    \n",
      " extracting: DIV2K-va_1X/0807.png    \n",
      " extracting: DIV2K-va_1X/0813.png    \n",
      " extracting: DIV2K-va_1X/0839.png    \n",
      " extracting: DIV2K-va_1X/0805.png    \n",
      " extracting: DIV2K-va_1X/0811.png    \n",
      " extracting: DIV2K-va_1X/0810.png    \n",
      " extracting: DIV2K-va_1X/0804.png    \n",
      " extracting: DIV2K-va_1X/0838.png    \n",
      " extracting: DIV2K-va_1X/0814.png    \n",
      " extracting: DIV2K-va_1X/0828.png    \n",
      " extracting: DIV2K-va_1X/0829.png    \n",
      " extracting: DIV2K-va_1X/0815.png    \n",
      " extracting: DIV2K-va_1X/0801.png    \n",
      " extracting: DIV2K-va_1X/0817.png    \n",
      " extracting: DIV2K-va_1X/0803.png    \n",
      " extracting: DIV2K-va_1X/0802.png    \n",
      " extracting: DIV2K-va_1X/0816.png    \n",
      " extracting: DIV2K-va_1X/0859.png    \n",
      " extracting: DIV2K-va_1X/0871.png    \n",
      " extracting: DIV2K-va_1X/0865.png    \n",
      " extracting: DIV2K-va_1X/0864.png    \n",
      " extracting: DIV2K-va_1X/0870.png    \n",
      " extracting: DIV2K-va_1X/0858.png    \n",
      " extracting: DIV2K-va_1X/0866.png    \n",
      " extracting: DIV2K-va_1X/0872.png    \n",
      " extracting: DIV2K-va_1X/0899.png    \n",
      " extracting: DIV2K-va_1X/0898.png    \n",
      " extracting: DIV2K-va_1X/0873.png    \n",
      " extracting: DIV2K-va_1X/0867.png    \n",
      " extracting: DIV2K-va_1X/0863.png    \n",
      " extracting: DIV2K-va_1X/0877.png    \n",
      " extracting: DIV2K-va_1X/0888.png    \n",
      " extracting: DIV2K-va_1X/0889.png    \n",
      " extracting: DIV2K-va_1X/0876.png    \n",
      " extracting: DIV2K-va_1X/0862.png    \n",
      " extracting: DIV2K-va_1X/0900.png    \n",
      " extracting: DIV2K-va_1X/0874.png    \n",
      " extracting: DIV2K-va_1X/0860.png    \n",
      " extracting: DIV2K-va_1X/0848.png    \n",
      " extracting: DIV2K-va_1X/0849.png    \n",
      " extracting: DIV2K-va_1X/0861.png    \n",
      " extracting: DIV2K-va_1X/0875.png    \n"
     ],
     "name": "stdout"
    }
   ]
  },
  {
   "cell_type": "code",
   "metadata": {
    "id": "HOdBCIYyp2Ki",
    "colab": {
     "base_uri": "https://localhost:8080/"
    },
    "executionInfo": {
     "status": "ok",
     "timestamp": 1626320863312,
     "user_tz": -420,
     "elapsed": 2279,
     "user": {
      "displayName": "DUY Trương Minh",
      "photoUrl": "",
      "userId": "06339021550163644426"
     }
    },
    "outputId": "28dbd6b2-cdfc-4be5-d0b2-029768336da5"
   },
   "source": [
    "!unzip \"/content/gdrive/MyDrive/Data/Validation/DIV2K-va_4X.zip\""
   ],
   "execution_count": 3,
   "outputs": [
    {
     "output_type": "stream",
     "text": [
      "Archive:  /content/gdrive/MyDrive/Data/Validation/DIV2K-va_4X.zip\n",
      "   creating: DIV2K-va_4X/\n",
      " extracting: DIV2K-va_4X/0878.png    \n",
      " extracting: DIV2K-va_4X/0850.png    \n",
      " extracting: DIV2K-va_4X/0844.png    \n",
      " extracting: DIV2K-va_4X/0893.png    \n",
      " extracting: DIV2K-va_4X/0887.png    \n",
      " extracting: DIV2K-va_4X/0886.png    \n",
      " extracting: DIV2K-va_4X/0892.png    \n",
      " extracting: DIV2K-va_4X/0845.png    \n",
      " extracting: DIV2K-va_4X/0851.png    \n",
      " extracting: DIV2K-va_4X/0879.png    \n",
      " extracting: DIV2K-va_4X/0847.png    \n",
      " extracting: DIV2K-va_4X/0853.png    \n",
      " extracting: DIV2K-va_4X/0884.png    \n",
      " extracting: DIV2K-va_4X/0890.png    \n",
      " extracting: DIV2K-va_4X/0891.png    \n",
      " extracting: DIV2K-va_4X/0885.png    \n",
      " extracting: DIV2K-va_4X/0852.png    \n",
      " extracting: DIV2K-va_4X/0846.png    \n",
      " extracting: DIV2K-va_4X/0842.png    \n",
      " extracting: DIV2K-va_4X/0856.png    \n",
      " extracting: DIV2K-va_4X/0881.png    \n",
      " extracting: DIV2K-va_4X/0895.png    \n",
      " extracting: DIV2K-va_4X/0894.png    \n",
      " extracting: DIV2K-va_4X/0880.png    \n",
      " extracting: DIV2K-va_4X/0857.png    \n",
      " extracting: DIV2K-va_4X/0843.png    \n",
      " extracting: DIV2K-va_4X/0855.png    \n",
      " extracting: DIV2K-va_4X/0841.png    \n",
      " extracting: DIV2K-va_4X/0869.png    \n",
      " extracting: DIV2K-va_4X/0896.png    \n",
      " extracting: DIV2K-va_4X/0882.png    \n",
      " extracting: DIV2K-va_4X/0883.png    \n",
      " extracting: DIV2K-va_4X/0897.png    \n",
      " extracting: DIV2K-va_4X/0868.png    \n",
      " extracting: DIV2K-va_4X/0840.png    \n",
      " extracting: DIV2K-va_4X/0854.png    \n",
      " extracting: DIV2K-va_4X/0833.png    \n",
      " extracting: DIV2K-va_4X/0827.png    \n",
      " extracting: DIV2K-va_4X/0826.png    \n",
      " extracting: DIV2K-va_4X/0832.png    \n",
      " extracting: DIV2K-va_4X/0818.png    \n",
      " extracting: DIV2K-va_4X/0824.png    \n",
      " extracting: DIV2K-va_4X/0830.png    \n",
      " extracting: DIV2K-va_4X/0831.png    \n",
      " extracting: DIV2K-va_4X/0825.png    \n",
      " extracting: DIV2K-va_4X/0819.png    \n",
      " extracting: DIV2K-va_4X/0821.png    \n",
      " extracting: DIV2K-va_4X/0835.png    \n",
      " extracting: DIV2K-va_4X/0809.png    \n",
      " extracting: DIV2K-va_4X/0808.png    \n",
      " extracting: DIV2K-va_4X/0834.png    \n",
      " extracting: DIV2K-va_4X/0820.png    \n",
      " extracting: DIV2K-va_4X/0836.png    \n",
      " extracting: DIV2K-va_4X/0822.png    \n",
      " extracting: DIV2K-va_4X/0823.png    \n",
      " extracting: DIV2K-va_4X/0837.png    \n",
      " extracting: DIV2K-va_4X/0812.png    \n",
      " extracting: DIV2K-va_4X/0806.png    \n",
      " extracting: DIV2K-va_4X/0807.png    \n",
      " extracting: DIV2K-va_4X/0813.png    \n",
      " extracting: DIV2K-va_4X/0839.png    \n",
      " extracting: DIV2K-va_4X/0805.png    \n",
      " extracting: DIV2K-va_4X/0811.png    \n",
      " extracting: DIV2K-va_4X/0810.png    \n",
      " extracting: DIV2K-va_4X/0804.png    \n",
      " extracting: DIV2K-va_4X/0838.png    \n",
      " extracting: DIV2K-va_4X/0814.png    \n",
      " extracting: DIV2K-va_4X/0828.png    \n",
      " extracting: DIV2K-va_4X/0829.png    \n",
      " extracting: DIV2K-va_4X/0815.png    \n",
      " extracting: DIV2K-va_4X/0801.png    \n",
      " extracting: DIV2K-va_4X/0817.png    \n",
      " extracting: DIV2K-va_4X/0803.png    \n",
      " extracting: DIV2K-va_4X/0802.png    \n",
      " extracting: DIV2K-va_4X/0816.png    \n",
      " extracting: DIV2K-va_4X/0859.png    \n",
      " extracting: DIV2K-va_4X/0871.png    \n",
      " extracting: DIV2K-va_4X/0865.png    \n",
      " extracting: DIV2K-va_4X/0864.png    \n",
      " extracting: DIV2K-va_4X/0870.png    \n",
      " extracting: DIV2K-va_4X/0858.png    \n",
      " extracting: DIV2K-va_4X/0866.png    \n",
      " extracting: DIV2K-va_4X/0872.png    \n",
      " extracting: DIV2K-va_4X/0899.png    \n",
      " extracting: DIV2K-va_4X/0898.png    \n",
      " extracting: DIV2K-va_4X/0873.png    \n",
      " extracting: DIV2K-va_4X/0867.png    \n",
      " extracting: DIV2K-va_4X/0863.png    \n",
      " extracting: DIV2K-va_4X/0877.png    \n",
      " extracting: DIV2K-va_4X/0888.png    \n",
      " extracting: DIV2K-va_4X/0889.png    \n",
      " extracting: DIV2K-va_4X/0876.png    \n",
      " extracting: DIV2K-va_4X/0862.png    \n",
      " extracting: DIV2K-va_4X/0900.png    \n",
      " extracting: DIV2K-va_4X/0874.png    \n",
      " extracting: DIV2K-va_4X/0860.png    \n",
      " extracting: DIV2K-va_4X/0848.png    \n",
      " extracting: DIV2K-va_4X/0849.png    \n",
      " extracting: DIV2K-va_4X/0861.png    \n",
      " extracting: DIV2K-va_4X/0875.png    \n"
     ],
     "name": "stdout"
    }
   ]
  },
  {
   "cell_type": "code",
   "metadata": {
    "colab": {
     "base_uri": "https://localhost:8080/",
     "height": 52
    },
    "id": "EPNlRVeXiR9s",
    "executionInfo": {
     "status": "ok",
     "timestamp": 1626320863321,
     "user_tz": -420,
     "elapsed": 25,
     "user": {
      "displayName": "DUY Trương Minh",
      "photoUrl": "",
      "userId": "06339021550163644426"
     }
    },
    "outputId": "76969bc3-02b1-4061-a14e-acbbd4005f43"
   },
   "source": [
    "%cd \"/content/gdrive/MyDrive/THESIS RESOURCES/ESRGAN code\"\n",
    "%pwd"
   ],
   "execution_count": 4,
   "outputs": [
    {
     "output_type": "stream",
     "text": [
      "/content/gdrive/MyDrive/THESIS RESOURCES/ESRGAN code\n"
     ],
     "name": "stdout"
    },
    {
     "output_type": "execute_result",
     "data": {
      "application/vnd.google.colaboratory.intrinsic+json": {
       "type": "string"
      },
      "text/plain": [
       "'/content/gdrive/MyDrive/THESIS RESOURCES/ESRGAN code'"
      ]
     },
     "metadata": {
      "tags": []
     },
     "execution_count": 4
    }
   ]
  },
  {
   "cell_type": "code",
   "metadata": {
    "colab": {
     "base_uri": "https://localhost:8080/"
    },
    "id": "wuVFNuRCcDsi",
    "executionInfo": {
     "status": "ok",
     "timestamp": 1626320873365,
     "user_tz": -420,
     "elapsed": 10060,
     "user": {
      "displayName": "DUY Trương Minh",
      "photoUrl": "",
      "userId": "06339021550163644426"
     }
    },
    "outputId": "e33eb9ad-6f53-47e4-ada0-add5fac678ee"
   },
   "source": [
    "!pip install pybrisque\n",
    "!pip install lpips"
   ],
   "execution_count": 5,
   "outputs": [
    {
     "output_type": "stream",
     "text": [
      "Collecting pybrisque\n",
      "\u001B[?25l  Downloading https://files.pythonhosted.org/packages/0b/38/2bafdc76e506df9e6ea6ca636e1fe291f2b40119c1c347f4a240d8ee3300/pybrisque-1.0.tar.gz (136kB)\n",
      "\u001B[K     |████████████████████████████████| 143kB 8.7MB/s \n",
      "\u001B[?25hRequirement already satisfied: numpy in /usr/local/lib/python3.7/dist-packages (from pybrisque) (1.19.5)\n",
      "Requirement already satisfied: scipy in /usr/local/lib/python3.7/dist-packages (from pybrisque) (1.4.1)\n",
      "Requirement already satisfied: opencv-python in /usr/local/lib/python3.7/dist-packages (from pybrisque) (4.1.2.30)\n",
      "Collecting libsvm\n",
      "\u001B[?25l  Downloading https://files.pythonhosted.org/packages/4b/11/c7700d0cd3a21eef2d7d996256277fc640ccd4f84717c10228cb6c1567dc/libsvm-3.23.0.4.tar.gz (170kB)\n",
      "\u001B[K     |████████████████████████████████| 174kB 47.5MB/s \n",
      "\u001B[?25hBuilding wheels for collected packages: pybrisque, libsvm\n",
      "  Building wheel for pybrisque (setup.py) ... \u001B[?25l\u001B[?25hdone\n",
      "  Created wheel for pybrisque: filename=pybrisque-1.0-cp37-none-any.whl size=136203 sha256=8e4be9157beebc267787f703fbc7350c1702ea5e3fb391a4a50ed3642e4ee8a5\n",
      "  Stored in directory: /root/.cache/pip/wheels/4a/f2/58/326df6416180141128635d5a2d0f9678655da3f47cbe975285\n",
      "  Building wheel for libsvm (setup.py) ... \u001B[?25l\u001B[?25hdone\n",
      "  Created wheel for libsvm: filename=libsvm-3.23.0.4-cp37-cp37m-linux_x86_64.whl size=233328 sha256=48eb6fb16ffe77b05ac5bc68640ef831b340dc142492455a752a511fc0d893eb\n",
      "  Stored in directory: /root/.cache/pip/wheels/5e/9e/b5/dbb033107407eec2f52b8cd24cf024a4b9ec8b62ea5aee995a\n",
      "Successfully built pybrisque libsvm\n",
      "Installing collected packages: libsvm, pybrisque\n",
      "Successfully installed libsvm-3.23.0.4 pybrisque-1.0\n",
      "Collecting lpips\n",
      "\u001B[?25l  Downloading https://files.pythonhosted.org/packages/21/de/774d9cdb601bb938b6a501f1aeaa64288a763ebbafbeef227a3da86150d9/lpips-0.1.3-py3-none-any.whl (53kB)\n",
      "\u001B[K     |████████████████████████████████| 61kB 4.8MB/s \n",
      "\u001B[?25hInstalling collected packages: lpips\n",
      "Successfully installed lpips-0.1.3\n"
     ],
     "name": "stdout"
    }
   ]
  },
  {
   "cell_type": "code",
   "metadata": {
    "colab": {
     "base_uri": "https://localhost:8080/"
    },
    "id": "w1r454d04I95",
    "executionInfo": {
     "status": "ok",
     "timestamp": 1626320900997,
     "user_tz": -420,
     "elapsed": 2444,
     "user": {
      "displayName": "DUY Trương Minh",
      "photoUrl": "",
      "userId": "06339021550163644426"
     }
    },
    "outputId": "dab02d25-c863-464c-df54-61806b2acd88"
   },
   "source": [
    "pip install pytorch-fid\n"
   ],
   "execution_count": 7,
   "outputs": [
    {
     "output_type": "stream",
     "text": [
      "Requirement already satisfied: pytorch-fid in /usr/local/lib/python3.7/dist-packages (0.2.0)\n",
      "Requirement already satisfied: numpy in /usr/local/lib/python3.7/dist-packages (from pytorch-fid) (1.19.5)\n",
      "Requirement already satisfied: torch>=1.0.1 in /usr/local/lib/python3.7/dist-packages (from pytorch-fid) (1.9.0+cu102)\n",
      "Requirement already satisfied: scipy in /usr/local/lib/python3.7/dist-packages (from pytorch-fid) (1.4.1)\n",
      "Requirement already satisfied: pillow in /usr/local/lib/python3.7/dist-packages (from pytorch-fid) (7.1.2)\n",
      "Requirement already satisfied: torchvision>=0.2.2 in /usr/local/lib/python3.7/dist-packages (from pytorch-fid) (0.10.0+cu102)\n",
      "Requirement already satisfied: typing-extensions in /usr/local/lib/python3.7/dist-packages (from torch>=1.0.1->pytorch-fid) (3.7.4.3)\n"
     ],
     "name": "stdout"
    }
   ]
  },
  {
   "cell_type": "code",
   "metadata": {
    "colab": {
     "base_uri": "https://localhost:8080/"
    },
    "id": "3-Wk2leFiTD8",
    "executionInfo": {
     "status": "ok",
     "timestamp": 1626322361274,
     "user_tz": -420,
     "elapsed": 339648,
     "user": {
      "displayName": "DUY Trương Minh",
      "photoUrl": "",
      "userId": "06339021550163644426"
     }
    },
    "outputId": "40fdc5b6-e7d9-4746-dcac-2f787c20c787"
   },
   "source": [
    "!python evaluate_all.py  --checkpoint_model \"/content/gdrive/MyDrive/THESIS RESOURCES/TESTING/GENERATOR/Large network/Large/generator_fft_largev3.pth\""
   ],
   "execution_count": 10,
   "outputs": [
    {
     "output_type": "stream",
     "text": [
      "Namespace(channels=3, checkpoint_model='/content/gdrive/MyDrive/THESIS RESOURCES/TESTING/GENERATOR/Large network/Large/generator_fft_largev3.pth', hr_path='/content/hr', lr_path='/content/gdrive/MyDrive/Data/lr', residual_blocks=23)\n",
      "Using model at :/content/gdrive/MyDrive/THESIS RESOURCES/TESTING/GENERATOR/Large network/Large/generator_fft_largev3.pth\n",
      "Generating HR image 1\n",
      "Generating HR image 2\n",
      "Generating HR image 3\n",
      "Generating HR image 4\n",
      "Generating HR image 5\n",
      "Generating HR image 6\n",
      "Generating HR image 7\n",
      "Generating HR image 8\n",
      "Generating HR image 9\n",
      "Generating HR image 10\n",
      "Generating HR image 11\n",
      "Generating HR image 12\n",
      "Generating HR image 13\n",
      "Generating HR image 14\n",
      "Generating HR image 15\n",
      "Generating HR image 16\n",
      "Generating HR image 17\n",
      "Generating HR image 18\n",
      "Generating HR image 19\n",
      "Generating HR image 20\n",
      "Generating HR image 21\n",
      "Generating HR image 22\n",
      "Generating HR image 23\n",
      "Generating HR image 24\n",
      "Generating HR image 25\n",
      "Generating HR image 26\n",
      "Generating HR image 27\n",
      "Generating HR image 28\n",
      "Generating HR image 29\n",
      "Generating HR image 30\n",
      "Generating HR image 31\n",
      "Generating HR image 32\n",
      "Generating HR image 33\n",
      "Generating HR image 34\n",
      "Generating HR image 35\n",
      "Generating HR image 36\n",
      "Generating HR image 37\n",
      "Generating HR image 38\n",
      "Generating HR image 39\n",
      "Generating HR image 40\n",
      "Generating HR image 41\n",
      "Generating HR image 42\n",
      "Generating HR image 43\n",
      "Generating HR image 44\n",
      "Generating HR image 45\n",
      "Generating HR image 46\n",
      "Generating HR image 47\n",
      "Generating HR image 48\n",
      "Generating HR image 49\n",
      "Generating HR image 50\n",
      "Generating HR image 51\n",
      "Generating HR image 52\n",
      "Generating HR image 53\n",
      "Generating HR image 54\n",
      "Generating HR image 55\n",
      "Generating HR image 56\n",
      "Generating HR image 57\n",
      "Generating HR image 58\n",
      "Generating HR image 59\n",
      "Generating HR image 60\n",
      "Generating HR image 61\n",
      "Generating HR image 62\n",
      "Generating HR image 63\n",
      "Generating HR image 64\n",
      "Generating HR image 65\n",
      "Generating HR image 66\n",
      "Generating HR image 67\n",
      "Generating HR image 68\n",
      "Generating HR image 69\n",
      "Generating HR image 70\n",
      "Generating HR image 71\n",
      "Generating HR image 72\n",
      "Generating HR image 73\n",
      "Generating HR image 74\n",
      "Generating HR image 75\n",
      "Generating HR image 76\n",
      "Generating HR image 77\n",
      "Generating HR image 78\n",
      "Generating HR image 79\n",
      "Generating HR image 80\n",
      "Generating HR image 81\n",
      "Generating HR image 82\n",
      "Generating HR image 83\n",
      "Generating HR image 84\n",
      "Generating HR image 85\n",
      "Generating HR image 86\n",
      "Generating HR image 87\n",
      "Generating HR image 88\n",
      "Generating HR image 89\n",
      "Generating HR image 90\n",
      "Generating HR image 91\n",
      "Generating HR image 92\n",
      "Generating HR image 93\n",
      "Generating HR image 94\n",
      "Generating HR image 95\n",
      "Generating HR image 96\n",
      "Generating HR image 97\n",
      "Generating HR image 98\n",
      "Generating HR image 99\n",
      "Generating HR image 100\n",
      "Image 1\n",
      "Traceback (most recent call last):\n",
      "  File \"evaluate_all.py\", line 120, in <module>\n",
      "    psnr_score = psnr(np.array(hr_image),np.array(sr_image))\n",
      "  File \"/usr/local/lib/python3.7/dist-packages/skimage/metrics/simple_metrics.py\", line 139, in peak_signal_noise_ratio\n",
      "    check_shape_equality(image_true, image_test)\n",
      "  File \"/usr/local/lib/python3.7/dist-packages/skimage/_shared/utils.py\", line 157, in check_shape_equality\n",
      "    raise ValueError('Input images must have the same dimensions.')\n",
      "ValueError: Input images must have the same dimensions.\n"
     ],
     "name": "stdout"
    }
   ]
  },
  {
   "cell_type": "markdown",
   "metadata": {
    "id": "0HpbbFmEP6ez"
   },
   "source": [
    "# **FID**"
   ]
  },
  {
   "cell_type": "code",
   "metadata": {
    "colab": {
     "base_uri": "https://localhost:8080/"
    },
    "id": "vUZt1WKJ4RPQ",
    "executionInfo": {
     "status": "ok",
     "timestamp": 1625828472107,
     "user_tz": -420,
     "elapsed": 26731,
     "user": {
      "displayName": "DUY Trương Minh",
      "photoUrl": "",
      "userId": "06339021550163644426"
     }
    },
    "outputId": "f4186f5d-b70e-4bd3-c786-d9cab18de744"
   },
   "source": [
    "!python -m pytorch_fid \"/content/gdrive/MyDrive/THESIS RESOURCES/ESRGAN code/resize_hr/hr_resize\" \"/content/gdrive/MyDrive/THESIS RESOURCES/ESRGAN code/hr/output\"\n"
   ],
   "execution_count": null,
   "outputs": [
    {
     "output_type": "stream",
     "text": [
      "Downloading: \"https://github.com/mseitzer/pytorch-fid/releases/download/fid_weights/pt_inception-2015-12-05-6726825d.pth\" to /root/.cache/torch/hub/checkpoints/pt_inception-2015-12-05-6726825d.pth\n",
      "100% 91.2M/91.2M [00:01<00:00, 77.6MB/s]\n",
      "  0% 0/2 [00:00<?, ?it/s]/usr/local/lib/python3.7/dist-packages/torch/nn/functional.py:718: UserWarning: Named tensors and all their associated APIs are an experimental feature and subject to change. Please do not use them for anything important until they are released as stable. (Triggered internally at  /pytorch/c10/core/TensorImpl.h:1156.)\n",
      "  return torch.max_pool2d(input, kernel_size, stride, padding, dilation, ceil_mode)\n",
      "100% 2/2 [00:04<00:00,  2.33s/it]\n",
      "100% 2/2 [00:04<00:00,  2.09s/it]\n",
      "FID:  34.13119081108442\n"
     ],
     "name": "stdout"
    }
   ]
  }
 ]
}
