{
 "nbformat": 4,
 "nbformat_minor": 0,
 "metadata": {
  "colab": {
   "name": "test.ipynb",
   "provenance": [],
   "collapsed_sections": [],
   "authorship_tag": "ABX9TyOx8lHQRuQnpqbwRtw0sOZH"
  },
  "kernelspec": {
   "name": "python3",
   "display_name": "Python 3"
  },
  "accelerator": "GPU"
 },
 "cells": [
  {
   "cell_type": "markdown",
   "metadata": {
    "id": "5VJ7mi36buum"
   },
   "source": []
  },
  {
   "cell_type": "code",
   "metadata": {
    "id": "VIZY-OLWooUU",
    "colab": {
     "base_uri": "https://localhost:8080/"
    },
    "executionInfo": {
     "status": "ok",
     "timestamp": 1633687404738,
     "user_tz": -420,
     "elapsed": 159778,
     "user": {
      "displayName": "Duy Trương Minh",
      "photoUrl": "https://lh3.googleusercontent.com/a/default-user=s64",
      "userId": "06339021550163644426"
     }
    },
    "outputId": "0e53874f-959b-4d49-d4ab-db83aa1c09fd"
   },
   "source": [
    "from google.colab import drive\n",
    "drive.mount('/content/gdrive')"
   ],
   "execution_count": 1,
   "outputs": [
    {
     "output_type": "stream",
     "name": "stdout",
     "text": [
      "Mounted at /content/gdrive\n"
     ]
    }
   ]
  },
  {
   "cell_type": "code",
   "metadata": {
    "colab": {
     "base_uri": "https://localhost:8080/",
     "height": 52
    },
    "id": "ahEHYJVzpgqs",
    "executionInfo": {
     "status": "ok",
     "timestamp": 1633687404746,
     "user_tz": -420,
     "elapsed": 37,
     "user": {
      "displayName": "Duy Trương Minh",
      "photoUrl": "https://lh3.googleusercontent.com/a/default-user=s64",
      "userId": "06339021550163644426"
     }
    },
    "outputId": "fad59ccf-e1d9-40c2-f1d5-a593a300e084"
   },
   "source": [
    "%cd \"/content/gdrive/MyDrive/THESIS RESOURCES/ESRGAN code\"\n",
    "%pwd"
   ],
   "execution_count": 2,
   "outputs": [
    {
     "output_type": "stream",
     "name": "stdout",
     "text": [
      "/content/gdrive/MyDrive/THESIS RESOURCES/ESRGAN code\n"
     ]
    },
    {
     "output_type": "execute_result",
     "data": {
      "application/vnd.google.colaboratory.intrinsic+json": {
       "type": "string"
      },
      "text/plain": [
       "'/content/gdrive/MyDrive/THESIS RESOURCES/ESRGAN code'"
      ]
     },
     "metadata": {},
     "execution_count": 2
    }
   ]
  },
  {
   "cell_type": "code",
   "metadata": {
    "colab": {
     "base_uri": "https://localhost:8080/"
    },
    "id": "gBI_4uHr1Vw_",
    "executionInfo": {
     "status": "ok",
     "timestamp": 1633687571894,
     "user_tz": -420,
     "elapsed": 167168,
     "user": {
      "displayName": "Duy Trương Minh",
      "photoUrl": "https://lh3.googleusercontent.com/a/default-user=s64",
      "userId": "06339021550163644426"
     }
    },
    "outputId": "45fd4332-1e9f-4001-95c0-8cf0edf746f0"
   },
   "source": [
    "pip install git+https://github.com/myownskyW7/CARAFE.git@master"
   ],
   "execution_count": 3,
   "outputs": [
    {
     "output_type": "stream",
     "name": "stdout",
     "text": [
      "Collecting git+https://github.com/myownskyW7/CARAFE.git@master\n",
      "  Cloning https://github.com/myownskyW7/CARAFE.git (to revision master) to /tmp/pip-req-build-q44toubd\n",
      "  Running command git clone -q https://github.com/myownskyW7/CARAFE.git /tmp/pip-req-build-q44toubd\n",
      "Building wheels for collected packages: carafe\n",
      "  Building wheel for carafe (setup.py) ... \u001B[?25l\u001B[?25hdone\n",
      "  Created wheel for carafe: filename=carafe-0.0.1-cp37-cp37m-linux_x86_64.whl size=6242315 sha256=795f2a4b0ebd732c69b1373cb55362926da4bd62b4e282383cb7313e8727493e\n",
      "  Stored in directory: /tmp/pip-ephem-wheel-cache-83afesqf/wheels/7d/08/bb/6ae15a4d305847abeb51da50c68056683df0a6b7984f25c349\n",
      "Successfully built carafe\n",
      "Installing collected packages: carafe\n",
      "Successfully installed carafe-0.0.1\n"
     ]
    }
   ]
  },
  {
   "cell_type": "code",
   "metadata": {
    "colab": {
     "base_uri": "https://localhost:8080/"
    },
    "id": "povyxezmppHE",
    "executionInfo": {
     "status": "ok",
     "timestamp": 1633687729346,
     "user_tz": -420,
     "elapsed": 10411,
     "user": {
      "displayName": "Duy Trương Minh",
      "photoUrl": "https://lh3.googleusercontent.com/a/default-user=s64",
      "userId": "06339021550163644426"
     }
    },
    "outputId": "ebc4f6fe-f694-4607-c9e9-d20661eec82a"
   },
   "source": [
    "!python test.py --image_path \"/content/gdrive/MyDrive/THESIS RESOURCES/ESRGAN code/test/lr_image/chu.jpg\" --checkpoint_model \"/content/gdrive/MyDrive/THESIS RESOURCES/TESTING/GENERATOR/Large network/Large/generator_fft_largev2.pth\""
   ],
   "execution_count": 7,
   "outputs": [
    {
     "output_type": "stream",
     "name": "stdout",
     "text": [
      "Namespace(channels=3, checkpoint_model='/content/gdrive/MyDrive/THESIS RESOURCES/TESTING/GENERATOR/Large network/Large/generator_fft_largev2.pth', image_path='/content/gdrive/MyDrive/THESIS RESOURCES/ESRGAN code/test/lr_image/chu.jpg', residual_blocks=23)\n",
      "/usr/local/lib/python3.7/dist-packages/torch/nn/functional.py:3613: UserWarning: Default upsampling behavior when mode=bicubic is changed to align_corners=False since 0.4.0. Please specify align_corners=True if the old behavior is desired. See the documentation of nn.Upsample for details.\n",
      "  \"See the documentation of nn.Upsample for details.\".format(mode)\n"
     ]
    }
   ]
  },
  {
   "cell_type": "code",
   "metadata": {
    "id": "_bV0aMuJa_2p",
    "colab": {
     "base_uri": "https://localhost:8080/"
    },
    "executionInfo": {
     "status": "ok",
     "timestamp": 1625286119883,
     "user_tz": -420,
     "elapsed": 2577,
     "user": {
      "displayName": "DUY Trương Minh",
      "photoUrl": "",
      "userId": "06339021550163644426"
     }
    },
    "outputId": "53a19b9c-3ed3-4a7d-90bf-1a89d14eacaa"
   },
   "source": [
    "!python score.py --sr_path \"/content/gdrive/MyDrive/THESIS RESOURCES/ESRGAN code/test/sr_image/vgg-ra/baboon.png\" --hr_path \"/content/gdrive/MyDrive/THESIS RESOURCES/ESRGAN code/test/hr_image/baboon.png\"\n"
   ],
   "execution_count": null,
   "outputs": [
    {
     "output_type": "stream",
     "text": [
      "Namespace(hr_path='/content/gdrive/MyDrive/THESIS RESOURCES/ESRGAN code/test/hr_image/baboon.png', sr_path='/content/gdrive/MyDrive/THESIS RESOURCES/ESRGAN code/test/sr_image/vgg-ra/baboon.png')\n",
      "PSNR score\n",
      "14.413386342421992\n",
      "SSIM score\n",
      "0.15429905143823094\n"
     ],
     "name": "stdout"
    }
   ]
  }
 ]
}
